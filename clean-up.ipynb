{
 "cells": [
  {
   "cell_type": "code",
   "execution_count": 5,
   "metadata": {},
   "outputs": [],
   "source": [
    "import pandas as pd\n",
    "import numpy as np\n",
    "import pathlib\n",
    "from pathlib import Path\n",
    "\n",
    "this_path = pathlib.Path().resolve()"
   ]
  },
  {
   "cell_type": "code",
   "execution_count": 47,
   "metadata": {},
   "outputs": [],
   "source": [
    "stat_types = [\"offense\", \"passing\", \"rushing\"]\n",
    "off_headers = [\"Player\",\"Tm\",\"Passing_Cmp\",\"Passing_Att\",\"Passing_Yds\",\"Passing_TD\",\"Passing_Int\",\"Passing_Sk\",\"Passing_LostYds\",\"Passing_Lng\",\"Passing_Rate\",\"Rushing_Att\",\"Rushing_Yds\",\"Rushing_TD\",\"Rushing_Lng\",\"Receiving_Tgt\",\"Receiving_Rec\",\"Receiving_Yds\",\"Receiving_TD\",\"Receiving_Lng\",\"Fmb\",\"FL\"]\n",
    "off_frames = []\n",
    "pass_frames = []\n",
    "rush_frames = []\n",
    "for week in range (1,19):\n",
    "    for stat in stat_types:\n",
    "        wk_path = this_path / \"data\" / \"Week_{}\".format(week) / \"{}_{}.csv\".format(week, stat)\n",
    "        if wk_path.is_file():\n",
    "            if stat == \"offense\":\n",
    "                df_wk = pd.read_csv(wk_path, delimiter=\",\", skiprows=2, names= off_headers)\n",
    "            else:\n",
    "                df_wk = pd.read_csv(wk_path, delimiter=\",\", header=[0])\n",
    "            df_wk[\"Week\"] = week\n",
    "            df_wk[[\"Player\", \"PlayerID\"]] = df_wk[\"Player\"].str.split(\"\\\\\",expand=True)\n",
    "\n",
    "            if stat == \"offense\":\n",
    "                off_frames.append(df_wk)\n",
    "            elif stat == \"passing\":\n",
    "                pass_frames.append(df_wk)\n",
    "            else:\n",
    "                rush_frames.append(df_wk)\n",
    "\n",
    "df_off = pd.concat(off_frames, ignore_index = True)\n",
    "df_pass = pd.concat(pass_frames, ignore_index = True)\n",
    "df_rush = pd.concat(rush_frames, ignore_index = True)\n",
    "\n",
    "df_off.to_csv(this_path / \"data\" / \"offense.csv\")\n",
    "df_pass.to_csv(this_path / \"data\" / \"passing.csv\")\n",
    "df_rush.to_csv(this_path / \"data\" / \"rushing.csv\")"
   ]
  }
 ],
 "metadata": {
  "interpreter": {
   "hash": "3040ade59f529cffeb5c850f4cdf356006acc907d055691449502b85871ecdaf"
  },
  "kernelspec": {
   "display_name": "Python 3.9.6 64-bit ('nfl': conda)",
   "language": "python",
   "name": "python3"
  },
  "language_info": {
   "codemirror_mode": {
    "name": "ipython",
    "version": 3
   },
   "file_extension": ".py",
   "mimetype": "text/x-python",
   "name": "python",
   "nbconvert_exporter": "python",
   "pygments_lexer": "ipython3",
   "version": "3.9.6"
  },
  "orig_nbformat": 4
 },
 "nbformat": 4,
 "nbformat_minor": 2
}
