{
 "cells": [
  {
   "cell_type": "code",
   "execution_count": 2,
   "metadata": {},
   "outputs": [],
   "source": [
    "import pandas as pd\n",
    "import numpy as np\n",
    "import pathlib\n",
    "from pathlib import Path\n",
    "\n",
    "this_path = pathlib.Path().resolve()"
   ]
  },
  {
   "cell_type": "code",
   "execution_count": 47,
   "metadata": {},
   "outputs": [],
   "source": [
    "stat_types = [\"offense\", \"passing\", \"rushing\"]\n",
    "off_headers = [\"Player\",\"Tm\",\"Passing_Cmp\",\"Passing_Att\",\"Passing_Yds\",\"Passing_TD\",\"Passing_Int\",\"Passing_Sk\",\"Passing_LostYds\",\"Passing_Lng\",\"Passing_Rate\",\"Rushing_Att\",\"Rushing_Yds\",\"Rushing_TD\",\"Rushing_Lng\",\"Receiving_Tgt\",\"Receiving_Rec\",\"Receiving_Yds\",\"Receiving_TD\",\"Receiving_Lng\",\"Fmb\",\"FL\"]\n",
    "off_frames = []\n",
    "pass_frames = []\n",
    "rush_frames = []\n",
    "for week in range (1,19):\n",
    "    for stat in stat_types:\n",
    "        wk_path = this_path / \"data\" / \"Week_{}\".format(week) / \"{}_{}.csv\".format(week, stat)\n",
    "        if wk_path.is_file():\n",
    "            if stat == \"offense\":\n",
    "                df_wk = pd.read_csv(wk_path, delimiter=\",\", skiprows=2, names= off_headers)\n",
    "            else:\n",
    "                df_wk = pd.read_csv(wk_path, delimiter=\",\", header=[0])\n",
    "            df_wk[\"Week\"] = week\n",
    "            df_wk[[\"Player\", \"PlayerID\"]] = df_wk[\"Player\"].str.split(\"\\\\\",expand=True)\n",
    "\n",
    "            if stat == \"offense\":\n",
    "                off_frames.append(df_wk)\n",
    "            elif stat == \"passing\":\n",
    "                pass_frames.append(df_wk)\n",
    "            else:\n",
    "                rush_frames.append(df_wk)\n",
    "\n",
    "df_off = pd.concat(off_frames, ignore_index = True)\n",
    "df_pass = pd.concat(pass_frames, ignore_index = True)\n",
    "df_rush = pd.concat(rush_frames, ignore_index = True)\n",
    "\n",
    "df_off.to_csv(this_path / \"data\" / \"offense.csv\")\n",
    "df_pass.to_csv(this_path / \"data\" / \"passing.csv\")\n",
    "df_rush.to_csv(this_path / \"data\" / \"rushing.csv\")"
   ]
  },
  {
   "cell_type": "code",
   "execution_count": 15,
   "metadata": {},
   "outputs": [
    {
     "name": "stdout",
     "output_type": "stream",
     "text": [
      "     Rk           Player   Tm  Age_x Pos   G  GS  Att   Yds  TD  ...    Y/G  \\\n",
      "0     1  Jonathan Taylor  IND     22  RB  17  17  332  1811  18  ...  106.5   \n",
      "1     2     Najee Harris  PIT     23  RB  17  17  307  1200   7  ...   70.6   \n",
      "2     3        Joe Mixon  CIN     25  RB  16  16  292  1205  13  ...   75.3   \n",
      "3     4   Antonio Gibson  WAS     23  RB  16  14  258  1037   7  ...   64.8   \n",
      "4     5      Dalvin Cook  MIN     26  RB  13  13  249  1159   6  ...   89.2   \n",
      "..  ...              ...  ...    ...  ..  ..  ..  ...   ...  ..  ...    ...   \n",
      "69  118    Malcolm Brown  MIA     28  rb   7   3   33   125   1  ...   17.9   \n",
      "70  133    Elijhaa Penny  NYG     28  rb  17   3   24    99   1  ...    5.8   \n",
      "71  145      Chris Evans  CIN     24  rb  14   1   17    77   0  ...    5.5   \n",
      "72  199  Demetric Felton  CLE     23  rb  16   2    7    24   0  ...    1.5   \n",
      "73  291   Raheem Mostert  SFO     29  rb   1   1    2    20   0  ...   20.0   \n",
      "\n",
      "    Fmb  PlayerID        Team  Age_y Total Value Avg./Year  Total Guaranteed  \\\n",
      "0     4  TaylJo02       Colts     23     7829154   1957289           4829799   \n",
      "1     0  HarrNa00    Steelers     24    13047444   3261861          13047444   \n",
      "2     2  MixoJo00     Bengals     26    48000000  12000000          10000000   \n",
      "3     6  GibsAn00  Washington     24     4932638   1233160           1147372   \n",
      "4     3  CookDa01     Vikings     27    63000000  12600000          28131361   \n",
      "..  ...       ...         ...    ...         ...       ...               ...   \n",
      "69    0  BrowMa03    Dolphins     29     1750000   1750000           1750000   \n",
      "70    0  PennEl00      Giants     29     2250000   1125000            335000   \n",
      "71    0  EvanCh02     Bengals     25     3652888    913222            172888   \n",
      "72    4  FeltDe00      Browns     24     3641144    910286            161144   \n",
      "73    0  MostRa00       49ers     30     8700000   2900000           3000000   \n",
      "\n",
      "    Fully Guaranteed  Free Agency  \n",
      "0            4829799     2024 UFA  \n",
      "1           13047444     2025 UFA  \n",
      "2           10000000     2025 UFA  \n",
      "3            1147372     2024 UFA  \n",
      "4           16331361     2026 UFA  \n",
      "..               ...          ...  \n",
      "69           1750000     2022 UFA  \n",
      "70            335000     2022 UFA  \n",
      "71            172888     2025 UFA  \n",
      "72            161144     2025 UFA  \n",
      "73           2400000     2022 UFA  \n",
      "\n",
      "[74 rows x 23 columns]\n"
     ]
    },
    {
     "name": "stderr",
     "output_type": "stream",
     "text": [
      "C:\\Users\\HUBERS\\AppData\\Local\\Temp/ipykernel_23468/2150829142.py:13: FutureWarning: The default value of regex will change from True to False in a future version.\n",
      "  rbs[\"Player\"] = rbs[\"Player\"].str.replace('[^a-zA-Z0-9  \\'.-]', '')\n"
     ]
    }
   ],
   "source": [
    "# Let's merge the RBs with the salary to get a yds/$ thing going\n",
    "rbs_path = this_path / \"data\" / \"all_rushing_season.csv\"\n",
    "salary_path = this_path / \"data\" / \"rb_salary.csv\"\n",
    "\n",
    "rbs = pd.read_csv(rbs_path, delimiter =\",\")\n",
    "salary = pd.read_csv(salary_path, delimiter =\",\")\n",
    "\n",
    "# filter all non RBs from the rushing data\n",
    "rbs = rbs[rbs[\"Pos\"].str.casefold() == \"rb\"]\n",
    "# strip the names from the IDs\n",
    "rbs[[\"Player\", \"PlayerID\"]] = rbs[\"Player\"].str.split(\"\\\\\",expand=True)\n",
    "# And also those pesky + and * characters\n",
    "rbs[\"Player\"] = rbs[\"Player\"].str.replace('[^a-zA-Z0-9  \\'.-]', '')\n",
    "# And finally make an inner join on the Player column\n",
    "combined  = pd.merge(rbs, salary, on=\"Player\", how='inner')\n",
    "combined.to_csv(this_path / \"data\" / \"rb_combined.csv\")"
   ]
  }
 ],
 "metadata": {
  "interpreter": {
   "hash": "3040ade59f529cffeb5c850f4cdf356006acc907d055691449502b85871ecdaf"
  },
  "kernelspec": {
   "display_name": "Python 3.9.6 64-bit ('nfl': conda)",
   "language": "python",
   "name": "python3"
  },
  "language_info": {
   "codemirror_mode": {
    "name": "ipython",
    "version": 3
   },
   "file_extension": ".py",
   "mimetype": "text/x-python",
   "name": "python",
   "nbconvert_exporter": "python",
   "pygments_lexer": "ipython3",
   "version": "3.9.6"
  },
  "orig_nbformat": 4
 },
 "nbformat": 4,
 "nbformat_minor": 2
}
